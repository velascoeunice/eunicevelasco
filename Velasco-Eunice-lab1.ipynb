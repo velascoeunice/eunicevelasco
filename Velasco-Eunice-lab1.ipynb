{
 "cells": [
  {
   "cell_type": "markdown",
   "metadata": {},
   "source": [
    "195199\n",
    "Velasco\n",
    "2 - BS ITE"
   ]
  },
  {
   "cell_type": "code",
   "execution_count": 4,
   "metadata": {},
   "outputs": [
    {
     "name": "stdout",
     "output_type": "stream",
     "text": [
      "Enter the amount in US Dollars: 1\n",
      "1 US dollar(s) = 50 Philippine Pesos.\n"
     ]
    }
   ],
   "source": [
    "# Problem 1\n",
    "\n",
    "def dollars_to_pesos(dollars):\n",
    "    pesos = dollars*50\n",
    "    return \"{} US dollar(s) = {} Philippine Pesos.\".format(int(dollars), int(pesos))\n",
    "\n",
    "dollars = float(input('Enter the amount in US Dollars: '))\n",
    "print(dollars_to_pesos(dollars))"
   ]
  },
  {
   "cell_type": "code",
   "execution_count": 9,
   "metadata": {},
   "outputs": [
    {
     "name": "stdout",
     "output_type": "stream",
     "text": [
      "128\n",
      "8\n",
      "136\n",
      "120\n",
      "1024\n",
      "16\n",
      "0\n"
     ]
    }
   ],
   "source": [
    "# Problem 2\n",
    "\n",
    "a = int(input())\n",
    "b = int(input())\n",
    "\n",
    "print(a+b)\n",
    "print(a-b)\n",
    "print(a*b)\n",
    "print(int(a/b))\n",
    "print(a%b)\n",
    "\n",
    "\n"
   ]
  },
  {
   "cell_type": "code",
   "execution_count": 10,
   "metadata": {},
   "outputs": [
    {
     "name": "stdout",
     "output_type": "stream",
     "text": [
      "Enter kg: 67\n",
      "Enter cm: 178\n",
      "BMI:  21.146319909102385\n"
     ]
    }
   ],
   "source": [
    "# Problem 3\n",
    "\n",
    "def convert_cm_to_m(cm):\n",
    "    m = cm*0.01\n",
    "    return m\n",
    "\n",
    "def compute_bmi(kg, m):\n",
    "    BMI = kg/(m**2)\n",
    "    return BMI\n",
    "\n",
    "kg = float(input('Enter kg: '))\n",
    "cm = float(input('Enter cm: '))\n",
    "\n",
    "m = convert_cm_to_m(cm)\n",
    "bmi = compute_bmi(kg, m)\n",
    "print('BMI: ', bmi)\n",
    "    "
   ]
  },
  {
   "cell_type": "code",
   "execution_count": null,
   "metadata": {},
   "outputs": [],
   "source": []
  }
 ],
 "metadata": {
  "kernelspec": {
   "display_name": "Python 3",
   "language": "python",
   "name": "python3"
  },
  "language_info": {
   "codemirror_mode": {
    "name": "ipython",
    "version": 3
   },
   "file_extension": ".py",
   "mimetype": "text/x-python",
   "name": "python",
   "nbconvert_exporter": "python",
   "pygments_lexer": "ipython3",
   "version": "3.8.3"
  }
 },
 "nbformat": 4,
 "nbformat_minor": 4
}
